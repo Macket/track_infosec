{
 "cells": [
  {
   "cell_type": "code",
   "execution_count": 184,
   "metadata": {
    "collapsed": true
   },
   "outputs": [],
   "source": [
    "import MySQLdb"
   ]
  },
  {
   "cell_type": "code",
   "execution_count": 175,
   "metadata": {
    "collapsed": true
   },
   "outputs": [],
   "source": [
    "def get_user_by_id(user_id):\n",
    "    connection = MySQLdb.connect('localhost', 'ivan', '12345678OK', 'MyBase')\n",
    "    cursor = connection.cursor()\n",
    "\n",
    "    sql = \"SELECT id, username FROM core_user WHERE id={}\".format(user_id)\n",
    "    \n",
    "    cursor.execute(sql)\n",
    "\n",
    "    # Получаем данные.\n",
    "    result = cursor.fetchall()\n",
    "    print result\n",
    "\n",
    "    # Разрываем подключение.\n",
    "    connection.close()"
   ]
  },
  {
   "cell_type": "code",
   "execution_count": 199,
   "metadata": {},
   "outputs": [
    {
     "name": "stdout",
     "output_type": "stream",
     "text": [
      "((2L, '1'),)\n"
     ]
    }
   ],
   "source": [
    "get_user_by_id(2)"
   ]
  },
  {
   "cell_type": "code",
   "execution_count": 200,
   "metadata": {},
   "outputs": [
    {
     "name": "stdout",
     "output_type": "stream",
     "text": [
      "(('2', '1'), ('admin', 'pbkdf2_sha256$30000$suyMyYU5lciy$2eCDx1osnllMD8x9pua9T5by3ZFqPCuxYx16SQruZ0Y='), ('1', 'pbkdf2_sha256$30000$ZeOKAhcA2gga$omJPfatTCnpijZRtJq+sY/TCa+sL74mnr70PKIAMS8U='))\n"
     ]
    }
   ],
   "source": [
    "get_user_by_id('2 UNION SELECT username, password FROM core_user')"
   ]
  },
  {
   "cell_type": "code",
   "execution_count": 201,
   "metadata": {
    "collapsed": true
   },
   "outputs": [],
   "source": [
    "def get_user_by_id_safe(user_id):\n",
    "    connection = MySQLdb.connect('localhost', 'ivan', '12345678OK', 'MyBase')\n",
    "    try:\n",
    "        uid = int(user_id)\n",
    "        cursor = connection.cursor()\n",
    "\n",
    "        sql = \"SELECT id, username FROM core_user WHERE id={}\".format(user_id)\n",
    "\n",
    "        cursor.execute(sql)\n",
    "\n",
    "        # Получаем данные.\n",
    "        result = cursor.fetchall()\n",
    "        print result\n",
    "    \n",
    "    except ValueError:\n",
    "        print 'user_id должен быть числом'\n",
    "\n",
    "    finally:\n",
    "        # Разрываем подключение.\n",
    "        connection.close()"
   ]
  },
  {
   "cell_type": "code",
   "execution_count": 202,
   "metadata": {},
   "outputs": [
    {
     "name": "stdout",
     "output_type": "stream",
     "text": [
      "user_id должен быть числом\n"
     ]
    }
   ],
   "source": [
    "get_user_by_id_safe('2 UNION SELECT username, password FROM core_user')"
   ]
  },
  {
   "cell_type": "code",
   "execution_count": 235,
   "metadata": {
    "collapsed": true
   },
   "outputs": [],
   "source": [
    "def get_user_by_username(username):\n",
    "    connection = MySQLdb.connect('localhost', 'ivan', '12345678OK', 'MyBase')\n",
    "    cursor = connection.cursor()\n",
    "\n",
    "    sql = \"SELECT id, username FROM core_user WHERE username='{}'\".format(username)\n",
    "    \n",
    "    cursor.execute(sql)\n",
    "\n",
    "    # Получаем данные.\n",
    "    result = cursor.fetchall()\n",
    "    print result\n",
    "\n",
    "    # Разрываем подключение.\n",
    "    connection.close()"
   ]
  },
  {
   "cell_type": "code",
   "execution_count": 238,
   "metadata": {},
   "outputs": [
    {
     "name": "stdout",
     "output_type": "stream",
     "text": [
      "()\n"
     ]
    }
   ],
   "source": [
    "get_user_by_username('33')"
   ]
  },
  {
   "cell_type": "code",
   "execution_count": 239,
   "metadata": {},
   "outputs": [
    {
     "name": "stdout",
     "output_type": "stream",
     "text": [
      "(('1', 'admin'), ('admin', 'pbkdf2_sha256$30000$suyMyYU5lciy$2eCDx1osnllMD8x9pua9T5by3ZFqPCuxYx16SQruZ0Y='), ('1', 'pbkdf2_sha256$30000$ZeOKAhcA2gga$omJPfatTCnpijZRtJq+sY/TCa+sL74mnr70PKIAMS8U='))\n"
     ]
    }
   ],
   "source": [
    "get_user_by_username('admin\\' UNION SELECT username, password FROM core_user -- ')"
   ]
  },
  {
   "cell_type": "code",
   "execution_count": 249,
   "metadata": {
    "collapsed": true
   },
   "outputs": [],
   "source": [
    "def get_user_by_username_safe(username):\n",
    "    connection = MySQLdb.connect('localhost', 'ivan', '12345678OK', 'MyBase')\n",
    "    cursor = connection.cursor()\n",
    "\n",
    "    #sql = \"SELECT id, username FROM core_user WHERE username='{}'\".format(username)\n",
    "\n",
    "    cursor.execute(\"SELECT id, username FROM core_user WHERE username=%s\", (username,))\n",
    "\n",
    "    # Получаем данные.\n",
    "    result = cursor.fetchall()\n",
    "    print result\n",
    "    # Разрываем подключение.\n",
    "    connection.close()"
   ]
  },
  {
   "cell_type": "code",
   "execution_count": 262,
   "metadata": {},
   "outputs": [
    {
     "name": "stdout",
     "output_type": "stream",
     "text": [
      "()\n"
     ]
    }
   ],
   "source": [
    "get_user_by_username_safe(\"admin' or id='1\")"
   ]
  },
  {
   "cell_type": "code",
   "execution_count": 253,
   "metadata": {},
   "outputs": [
    {
     "name": "stdout",
     "output_type": "stream",
     "text": [
      "((1L, 'admin'),)\n"
     ]
    }
   ],
   "source": [
    "get_user_by_username_safe('admin')"
   ]
  }
 ],
 "metadata": {
  "kernelspec": {
   "display_name": "Python 2",
   "language": "python",
   "name": "python2"
  },
  "language_info": {
   "codemirror_mode": {
    "name": "ipython",
    "version": 2
   },
   "file_extension": ".py",
   "mimetype": "text/x-python",
   "name": "python",
   "nbconvert_exporter": "python",
   "pygments_lexer": "ipython2",
   "version": "2.7.13"
  }
 },
 "nbformat": 4,
 "nbformat_minor": 2
}
